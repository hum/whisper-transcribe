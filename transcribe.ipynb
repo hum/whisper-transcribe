{
 "cells": [
  {
   "attachments": {},
   "cell_type": "markdown",
   "metadata": {},
   "source": [
    "# Transcribe\n",
    "Downloading a video from YouTube and using OpenAI's Whisper to create captions with timestamps\n",
    "\n",
    "Thanks: [yt-dlp](https://github.com/yt-dlp/yt-dlp), [Whisper](https://github.com/openai/whisper)"
   ]
  },
  {
   "cell_type": "code",
   "execution_count": null,
   "metadata": {},
   "outputs": [],
   "source": [
    "# Dependencies\n",
    "%pip install openai-whisper\n",
    "%pip install yt-dlp"
   ]
  },
  {
   "cell_type": "code",
   "execution_count": 13,
   "metadata": {},
   "outputs": [],
   "source": [
    "# Settings for the YouTube downloader\n",
    "YDL_OPTS = {\n",
    "    \"extract-audio\": True,\n",
    "    \"audio-format\": \"opus\",\n",
    "    \"noplaylist\": True,\n",
    "    \"youtube_include_dash_manifest\": False,\n",
    "    'postprocessors': [{  # Extract audio using ffmpeg\n",
    "        'key': 'FFmpegExtractAudio',\n",
    "        'preferredcodec': 'mp3',\n",
    "    }]\n",
    "}"
   ]
  },
  {
   "cell_type": "code",
   "execution_count": 21,
   "metadata": {},
   "outputs": [],
   "source": [
    "from yt_dlp import YoutubeDL\n",
    "\n",
    "def extract_audio(filename: str, file_ext: str, url: str):\n",
    "    YDL_OPTS[\"postprocessors\"][0][\"preferredcodec\"] = file_ext\n",
    "    YDL_OPTS[\"outtmpl\"] = filename\n",
    "\n",
    "    with YoutubeDL(YDL_OPTS) as ydl:\n",
    "        ydl.download(url_list=[url])"
   ]
  },
  {
   "cell_type": "code",
   "execution_count": 20,
   "metadata": {},
   "outputs": [
    {
     "name": "stdout",
     "output_type": "stream",
     "text": [
      "[youtube] Extracting URL: https://www.youtube.com/watch?v=z6xslDMimME\n",
      "[youtube] z6xslDMimME: Downloading webpage\n",
      "[youtube] z6xslDMimME: Downloading android player API JSON\n",
      "[info] z6xslDMimME: Downloading 1 format(s): 22\n",
      "[download] test_audio has already been downloaded\n",
      "[download] 100% of  382.88MiB\n",
      "[ExtractAudio] Destination: test_audio.mp3\n",
      "Deleting original file test_audio (pass -k to keep)\n"
     ]
    }
   ],
   "source": [
    "extract_audio(filename=\"test_audio\", file_ext=\"mp3\", url=\"https://www.youtube.com/watch?v=z6xslDMimME\")"
   ]
  },
  {
   "cell_type": "code",
   "execution_count": 4,
   "metadata": {},
   "outputs": [
    {
     "name": "stderr",
     "output_type": "stream",
     "text": [
      "/opt/homebrew/lib/python3.10/site-packages/tqdm/auto.py:22: TqdmWarning: IProgress not found. Please update jupyter and ipywidgets. See https://ipywidgets.readthedocs.io/en/stable/user_install.html\n",
      "  from .autonotebook import tqdm as notebook_tqdm\n",
      "/opt/homebrew/lib/python3.10/site-packages/whisper/transcribe.py:78: UserWarning: FP16 is not supported on CPU; using FP32 instead\n",
      "  warnings.warn(\"FP16 is not supported on CPU; using FP32 instead\")\n"
     ]
    }
   ],
   "source": [
    "import whisper\n",
    "\n",
    "model = whisper.load_model(\"base\")\n",
    "result = model.transcribe(\"test_audio.mp3\")"
   ]
  },
  {
   "cell_type": "code",
   "execution_count": 5,
   "metadata": {},
   "outputs": [
    {
     "data": {
      "text/plain": [
       "dict_keys(['text', 'segments', 'language'])"
      ]
     },
     "execution_count": 5,
     "metadata": {},
     "output_type": "execute_result"
    }
   ],
   "source": [
    "result.keys()"
   ]
  },
  {
   "cell_type": "code",
   "execution_count": 15,
   "metadata": {},
   "outputs": [],
   "source": [
    "from datetime import timedelta\n",
    "import csv\n",
    "\n",
    "with open(\"output.csv\", \"w\") as file:\n",
    "    w = csv.writer(file)\n",
    "    for seg in result.get(\"segments\", []):\n",
    "        start = timedelta(seconds=seg[\"start\"])\n",
    "        end = timedelta(seconds=seg[\"end\"])\n",
    "        text = seg[\"text\"]\n",
    "        text = text.lstrip()\n",
    "        row = [start, end, text]\n",
    "        w.writerow(row)"
   ]
  }
 ],
 "metadata": {
  "kernelspec": {
   "display_name": "Python 3",
   "language": "python",
   "name": "python3"
  },
  "language_info": {
   "codemirror_mode": {
    "name": "ipython",
    "version": 3
   },
   "file_extension": ".py",
   "mimetype": "text/x-python",
   "name": "python",
   "nbconvert_exporter": "python",
   "pygments_lexer": "ipython3",
   "version": "3.10.9"
  },
  "orig_nbformat": 4,
  "vscode": {
   "interpreter": {
    "hash": "b0fa6594d8f4cbf19f97940f81e996739fb7646882a419484c72d19e05852a7e"
   }
  }
 },
 "nbformat": 4,
 "nbformat_minor": 2
}
